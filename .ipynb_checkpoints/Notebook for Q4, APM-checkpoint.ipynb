{
 "cells": [
  {
   "cell_type": "code",
   "execution_count": 7,
   "metadata": {},
   "outputs": [
    {
     "data": {
      "image/png": "[encoded data removed]",
      "text/plain": [
       "<Figure size 720x576 with 1 Axes>"
      ]
     },
     "metadata": {
      "needs_background": "light"
     },
     "output_type": "display_data"
    }
   ],
   "source": [
    "# Libraries\n",
    "import scipy.stats as stats\n",
    "import numpy as np\n",
    "import matplotlib.pyplot as plt\n",
    "\n",
    "def gibbs_sampler(mu_1, mu_2, sigma_1, sigma_2, sigma_t, y, num_samples, burn_in):\n",
    "    # Number of samples k\n",
    "    k = num_samples\n",
    "    \n",
    "    # Storing vectors\n",
    "    s_1 = np.zeros(burn_in+k)\n",
    "    s_2 = np.zeros(burn_in+k)\n",
    "    out = np.zeros(burn_in+k)\n",
    "    \n",
    "    # Set initial values\n",
    "    s_1[0] = np.random.normal(mu_1, sigma_1)\n",
    "    s_2[0] = np.random.normal(mu_2, sigma_2)\n",
    "    \n",
    "    for i in range(burn_in+k-1):\n",
    "        mu_t = s_1[i] - s_2[i]\n",
    "        if(y == 1):\n",
    "            a = 0\n",
    "            b = np.infty\n",
    "        else:\n",
    "            a = -np.infty\n",
    "            b = 0\n",
    "        # Calculate the output   \n",
    "        out[i+1] = stats.truncnorm.rvs(a,b,mu_t,sigma_t)\n",
    "        # Get sigma and Mu from the posterior to calculate the new prior\n",
    "        Sigma = 1/(sigma_1+sigma_2+sigma_t)*np.matrix([[sigma_1*(sigma_2+sigma_t), sigma_1*sigma_2], \\\n",
    "                                                       [sigma_1*sigma_2, sigma_2*(sigma_1+sigma_t)]])\n",
    "        Mu = np.matmul(Sigma, np.matrix([[mu_1/sigma_1+out[i+1]/sigma_t], [mu_2/sigma_2-out[i+1]/sigma_t]]))\n",
    "        # Generate the new skills\n",
    "        s_1[i+1], s_2[i+1] = np.random.multivariate_normal((Mu[0,0], Mu[1,0]), Sigma)\n",
    "    \n",
    "    # Discard burn-in samples\n",
    "    #s_1 = s_1[burn_in:-1]\n",
    "    #s_2 = s_2[burn_in:-1]\n",
    "    \n",
    "    return s_1, s_2, out\n",
    "\n",
    "# Test the gibbs sampler\n",
    "mu_1 = 1\n",
    "mu_2 = 1\n",
    "sigma_1 = 1\n",
    "sigma_2 = 4\n",
    "sigma_t = 5\n",
    "y = 1\n",
    "num_samples = 200\n",
    "burn_in = 100\n",
    "s1,s2,out = gibbs_sampler(mu_1, mu_2, sigma_1, sigma_2, sigma_t, y, num_samples, burn_in)\n",
    "\n",
    "# Plot figure\n",
    "plt.figure(1, figsize=[10, 8])\n",
    "plt.plot(out > 0)\n",
    "plt.show()\n",
    "        "
   ]
  },
  {
   "cell_type": "code",
   "execution_count": null,
   "metadata": {},
   "outputs": [],
   "source": []
  }
 ],
 "metadata": {
  "kernelspec": {
   "display_name": "Python 3",
   "language": "python",
   "name": "python3"
  },
  "language_info": {
   "codemirror_mode": {
    "name": "ipython",
    "version": 3
   },
   "file_extension": ".py",
   "mimetype": "text/x-python",
   "name": "python",
   "nbconvert_exporter": "python",
   "pygments_lexer": "ipython3",
   "version": "3.7.4"
  }
 },
 "nbformat": 4,
 "nbformat_minor": 2
}
